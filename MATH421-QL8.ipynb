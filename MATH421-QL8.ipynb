{
 "cells": [
  {
   "cell_type": "code",
   "execution_count": 1,
   "id": "ce6fd039-faff-4df1-a042-6bb8f0cfa4ad",
   "metadata": {},
   "outputs": [
    {
     "name": "stderr",
     "output_type": "stream",
     "text": [
      "<frozen importlib._bootstrap>:219: RuntimeWarning: scipy._lib.messagestream.MessageStream size changed, may indicate binary incompatibility. Expected 56 from C header, got 64 from PyObject\n"
     ]
    }
   ],
   "source": [
    "import numpy as np\n",
    "\n",
    "# Importing standard Qiskit libraries\n",
    "from qiskit import QuantumCircuit, transpile, Aer, IBMQ, assemble\n",
    "from qiskit.tools.jupyter import *\n",
    "from qiskit.visualization import *\n",
    "from ibm_quantum_widgets import *\n",
    "from qiskit.providers.aer import QasmSimulator\n",
    "from qiskit.providers.ibmq import least_busy\n",
    "\n",
    "# Loading your IBM Quantum account(s)\n",
    "provider = IBMQ.load_account()"
   ]
  },
  {
   "cell_type": "markdown",
   "id": "e1dbccfd-c664-4017-bc0f-2cfb239af07d",
   "metadata": {},
   "source": [
    "## Deutsch-Jozsa Problem"
   ]
  },
  {
   "cell_type": "markdown",
   "id": "0017372f-7754-4721-8e9e-4c599e223810",
   "metadata": {},
   "source": [
    "We are given a hidden Boolean function f , which takes as input a string of bits, and returns either 0 or 1 , that is:\n",
    "\n",
    "$$f(\\{x_0,x_1,x_2,...\\}) \\rightarrow 0 \\textrm{ or } 1 \\textrm{ , where } x_n \\textrm{ is } 0 \\textrm{ or } 1$$\n",
    "\n",
    "The property of the given Boolean function is that it is guaranteed to either be balanced or constant. A constant function returns all 0 's or all 1 's for any input, while a balanced function returns 0 's for exactly half of all inputs and 1 's for the other half. Our task is to determine whether the given function is balanced or constant.\n",
    "\n",
    "Note that the Deutsch-Jozsa problem is an n-bit extension of the single bit Deutsch problem."
   ]
  },
  {
   "cell_type": "markdown",
   "id": "e1426fc1-510c-4009-b39a-37877c15a6e1",
   "metadata": {},
   "source": [
    "### The Classical Solution"
   ]
  },
  {
   "cell_type": "markdown",
   "id": "1918909e-42a4-450f-920e-dc1cf7777600",
   "metadata": {},
   "source": [
    "Classically, in the best case, two queries to the oracle can determine if the hidden Boolean function, f ( x ) , is balanced: e.g. if we get both f ( 0 , 0 , 0 , . . . ) → 0 and f ( 1 , 0 , 0 , . . . ) → 1 , then we know the function is balanced as we have obtained the two different outputs.\n",
    "\n",
    "In the worst case, if we continue to see the same output for each input we try, we will have to check exactly half of all possible inputs plus one in order to be certain that f ( x ) is constant. Since the total number of possible inputs is 2 n , this implies that we need $2^{n − 1} + 1$ trial inputs to be certain that f ( x ) is constant in the worst case. For example, for a 4 -bit string, if we checked 8 out of the 16 possible combinations, getting all 0 's, it is still possible that the 9 th input returns a 1 and f ( x ) is balanced. Probabilistically, this is a very unlikely event. In fact, if we get the same result continually in succession, we can express the probability that the function is constant as a function of k inputs as:\n",
    "\n",
    "$$P_\\textrm{constant}(k) = 1 - \\frac{1}{2^{k-1}} \\qquad \\textrm{for } 1 < k \\leq 2^{n-1}$$\n",
    "\n",
    "Realistically, we could opt to truncate our classical algorithm early, say if we were over x% confident. But if we want to be 100% confident, we would need to check $2^{n − 1} + 1$ inputs."
   ]
  },
  {
   "cell_type": "markdown",
   "id": "b4f7d34c-fca1-49f8-9778-b8165e71ffa7",
   "metadata": {},
   "source": [
    "### The Quantum Solution"
   ]
  },
  {
   "cell_type": "markdown",
   "id": "73526b64-e0a3-41e7-a8e6-7a5c02c18687",
   "metadata": {},
   "source": [
    "Using a quantum computer, we can solve this problem with 100% confidence after only one call to the function f ( x ), provided we have the function f implemented as a quantum oracle, which maps the state | x ⟩ | y ⟩ to | x ⟩ | y ⊕ f ( x ) ⟩ , where ⊕ is addition modulo 2 .\n",
    "\n",
    "Now, let's go through the steps of the algorithm:\n",
    "\n",
    "1- Prepare two quantum registers. The first is an n -qubit register initialized to | 0 ⟩ , and the second is a one-qubit register initialized to | 1 ⟩ :\n",
    "\n",
    "$$\\vert \\psi_0 \\rangle = \\vert0\\rangle^{\\otimes n} \\vert 1\\rangle$$\n",
    "\n",
    "2- Apply a Hadamard gate to each qubit:\n",
    "\n",
    "$$\\vert \\psi_1 \\rangle = \\frac{1}{\\sqrt{2^{n+1}}}\\sum_{x=0}^{2^n-1} \\vert x\\rangle \\left(|0\\rangle - |1 \\rangle \\right)$$\n",
    "\n",
    "3- Apply the quantum oracle | x ⟩ | y ⟩ to | x ⟩ | y ⊕ f ( x ) ⟩ :\n",
    "\n",
    "$$\\begin{aligned}\n",
    "            \\lvert \\psi_2 \\rangle  \n",
    "                & = \\frac{1}{\\sqrt{2^{n+1}}}\\sum_{x=0}^{2^n-1} \\vert x\\rangle (\\vert f(x)\\rangle - \\vert 1 \\oplus f(x)\\rangle) \\\\  \n",
    "                & = \\frac{1}{\\sqrt{2^{n+1}}}\\sum_{x=0}^{2^n-1}(-1)^{f(x)}|x\\rangle ( |0\\rangle - |1\\rangle ) \n",
    "        \\end{aligned}\n",
    "$$\n",
    "\n",
    "since for each x , f ( x ) is either 0 or 1 .\n",
    "\n",
    "4- At this point the second single qubit register may be ignored. Apply a Hadamard gate to each qubit in the first register:\n",
    "\n",
    "$$\\begin{aligned}\n",
    "            \\lvert \\psi_3 \\rangle \n",
    "                & = \\frac{1}{2^n}\\sum_{x=0}^{2^n-1}(-1)^{f(x)}\n",
    "                    \\left[ \\sum_{y=0}^{2^n-1}(-1)^{x \\cdot y} \n",
    "                    \\vert y \\rangle \\right] \\\\\n",
    "                & = \\frac{1}{2^n}\\sum_{y=0}^{2^n-1}\n",
    "                    \\left[ \\sum_{x=0}^{2^n-1}(-1)^{f(x)}(-1)^{x \\cdot y} \\right]\n",
    "                    \\vert y \\rangle\n",
    "        \\end{aligned}$$\n",
    "\n",
    "where $x \\cdot y = x_0y_0 \\oplus x_1y_1 \\oplus \\ldots \\oplus x_{n-1}y_{n-1}$ is the sum of the bitwise product.\n",
    "Measure the first register. Notice that the probability of measuring $\\vert 0 \\rangle ^{\\otimes n} = \\lvert \\frac{1}{2^n}\\sum_{x=0}^{2^n-1}(-1)^{f(x)} \\rvert^2$, which evaluates to 1 if f ( x ) is constant and 0 if f ( x ) is balanced."
   ]
  },
  {
   "cell_type": "markdown",
   "id": "6d1fb628-ea9f-4379-99d3-1aaf09e8d480",
   "metadata": {},
   "source": [
    "### Why does this work?\n",
    "\n",
    "#### Constant Oracle\n",
    "\n",
    "When the oracle is constant, it has no effect (up to a global phase) on the input qubits, and the quantum states before and after querying the oracle are the same. Since the H-gate is its own inverse, in Step 4 we reverse Step 2 to obtain the initial quantum state of | 00 … 0 ⟩ in the first register.\n",
    "\n",
    "#### Balanced Oracle\n",
    "\n",
    "After step 2, our input register is an equal superposition of all the states in the computational basis. When the oracle is balanced, phase kickback adds a negative phase to exactly half these states.\n",
    "The quantum state after querying the oracle is orthogonal to the quantum state before querying the oracle. Thus, in Step 4, when applying the H-gates, we must end up with a quantum state that is orthogonal to | 00 … 0 ⟩ . This means we should never measure the all-zero state.\n"
   ]
  },
  {
   "cell_type": "markdown",
   "id": "290c8705-7fba-4b16-bd66-8b6d905c4650",
   "metadata": {},
   "source": [
    "### Creating Quantum Oracles\n",
    "\n",
    "Let's see some different ways we can create a quantum oracle.\n",
    "\n",
    "For a constant function, it is simple:\n",
    "\n",
    "1- if f(x) = 0, then apply the I gate to the qubit in register 2.\n",
    "\n",
    "2- if f(x) = 1, then apply the X gate to the qubit in register 2.\n",
    "\n",
    "For a balanced function, there are many different circuits we can create. \n",
    "\n",
    "One of the ways we can guarantee our circuit is balanced is by performing a CNOT for each qubit in register 1, with the qubit in register 2 as the target. "
   ]
  },
  {
   "cell_type": "markdown",
   "id": "45f71a48-0475-408e-8a5f-0a17ccbc7aa1",
   "metadata": {},
   "source": [
    "## Qiskit Implementation"
   ]
  },
  {
   "cell_type": "markdown",
   "id": "492a6b35-5230-47c4-9072-bea15c13f57b",
   "metadata": {},
   "source": [
    "We will implement the Deutsch-Jozsa algorithm in Qiskit using a balanced oracle.\n",
    "\n",
    "First we create our oracle which will give us a balanced output."
   ]
  },
  {
   "cell_type": "code",
   "execution_count": 2,
   "id": "72fee785-6e39-4cd5-afe2-115bdff7ea7a",
   "metadata": {},
   "outputs": [
    {
     "data": {
      "image/png": "[encoded data removed]",
      "text/plain": [
       "<Figure size 387.597x264.88 with 1 Axes>"
      ]
     },
     "execution_count": 2,
     "metadata": {},
     "output_type": "execute_result"
    }
   ],
   "source": [
    "# set the length of the n-bit input string. \n",
    "n = 3\n",
    "\n",
    "balanced_oracle = QuantumCircuit(n+1)\n",
    "\n",
    "# Use barrier as divider\n",
    "balanced_oracle.barrier()\n",
    "\n",
    "# Controlled-NOT gates\n",
    "for qubit in range(n):\n",
    "    balanced_oracle.cx(qubit, n)\n",
    "\n",
    "balanced_oracle.barrier()\n",
    "\n",
    "# Show oracle\n",
    "balanced_oracle.draw()\n"
   ]
  },
  {
   "cell_type": "markdown",
   "id": "d1a429dc-5e30-4d0c-bd95-7658e982a6f8",
   "metadata": {},
   "source": [
    "Now we apply the full algorithm."
   ]
  },
  {
   "cell_type": "code",
   "execution_count": 3,
   "id": "44d0021b-e03f-4eea-a931-a16fb267c476",
   "metadata": {},
   "outputs": [
    {
     "name": "stderr",
     "output_type": "stream",
     "text": [
      "/tmp/ipykernel_59/460382824.py:12: DeprecationWarning: The QuantumCircuit.__iadd__() method is being deprecated. Use the compose() (potentially with the inplace=True argument) and tensor() methods which are more flexible w.r.t circuit register compatibility.\n",
      "  dj_circuit += balanced_oracle\n"
     ]
    },
    {
     "data": {
      "image/png": "[encoded data removed]",
      "text/plain": [
       "<Figure size 808.997x325.08 with 1 Axes>"
      ]
     },
     "execution_count": 3,
     "metadata": {},
     "output_type": "execute_result"
    }
   ],
   "source": [
    "dj_circuit = QuantumCircuit(n+1, n)\n",
    "\n",
    "# Apply H-gates\n",
    "for qubit in range(n):\n",
    "    dj_circuit.h(qubit)\n",
    "\n",
    "# Put qubit in state |->\n",
    "dj_circuit.x(n)\n",
    "dj_circuit.h(n)\n",
    "\n",
    "# Add oracle\n",
    "dj_circuit += balanced_oracle\n",
    "\n",
    "# Repeat H-gates\n",
    "for qubit in range(n):\n",
    "    dj_circuit.h(qubit)\n",
    "dj_circuit.barrier()\n",
    "\n",
    "# Measure\n",
    "for i in range(n):\n",
    "    dj_circuit.measure(i, i)\n",
    "\n",
    "# Display circuit\n",
    "dj_circuit.draw()"
   ]
  },
  {
   "cell_type": "code",
   "execution_count": 4,
   "id": "d8bdee74-b522-4094-a6b7-d5276f56b7d8",
   "metadata": {},
   "outputs": [
    {
     "data": {
      "image/png": "[encoded data removed]",
      "text/plain": [
       "<Figure size 504x360 with 1 Axes>"
      ]
     },
     "execution_count": 4,
     "metadata": {},
     "output_type": "execute_result"
    }
   ],
   "source": [
    "# use local simulator\n",
    "aer_sim = Aer.get_backend('aer_simulator')\n",
    "qobj = assemble(dj_circuit, aer_sim)\n",
    "results = aer_sim.run(qobj).result()\n",
    "answer = results.get_counts()\n",
    "\n",
    "plot_histogram(answer)\n"
   ]
  },
  {
   "cell_type": "markdown",
   "id": "9488ecba-6ad9-4d1b-b92b-5de551fd1868",
   "metadata": {},
   "source": [
    "We can see from the results above that we have a 0% chance of measuring 000. This correctly predicts the function is balanced."
   ]
  },
  {
   "cell_type": "code",
   "execution_count": null,
   "id": "117fa172-8b22-49b6-8af0-455a7fbe43a0",
   "metadata": {},
   "outputs": [],
   "source": []
  }
 ],
 "metadata": {
  "kernelspec": {
   "display_name": "Python 3 (ipykernel)",
   "language": "python",
   "name": "python3"
  },
  "language_info": {
   "codemirror_mode": {
    "name": "ipython",
    "version": 3
   },
   "file_extension": ".py",
   "mimetype": "text/x-python",
   "name": "python",
   "nbconvert_exporter": "python",
   "pygments_lexer": "ipython3",
   "version": "3.8.13"
  },
  "widgets": {
   "application/vnd.jupyter.widget-state+json": {
    "state": {
     "051eacf7923c4b96ab3184adf624ae39": {
      "model_module": "@jupyter-widgets/controls",
      "model_module_version": "1.5.0",
      "model_name": "HTMLModel",
      "state": {
       "layout": "IPY_MODEL_484f961c47ac4e92b6ed2486885337ca",
       "style": "IPY_MODEL_8ebecc1e9cd445fbb3b755fedf6d3fe8",
       "value": "<h5>Message</h5>"
      }
     },
     "1ea5fcf1e75a48b782bdde7bc5477032": {
      "model_module": "@jupyter-widgets/controls",
      "model_module_version": "1.5.0",
      "model_name": "ButtonModel",
      "state": {
       "button_style": "primary",
       "description": "Clear",
       "layout": "IPY_MODEL_a33e92b301ec45e6bebdca42972b1623",
       "style": "IPY_MODEL_9c8d1643aba14b58869156854ee1dadd"
      }
     },
     "4257c40249f842b98a0ab6115e9f1297": {
      "model_module": "@jupyter-widgets/base",
      "model_module_version": "1.2.0",
      "model_name": "LayoutModel",
      "state": {
       "width": "70px"
      }
     },
     "484f961c47ac4e92b6ed2486885337ca": {
      "model_module": "@jupyter-widgets/base",
      "model_module_version": "1.2.0",
      "model_name": "LayoutModel",
      "state": {}
     },
     "4b961b28b6b540dd86aeacec295a3c80": {
      "model_module": "@jupyter-widgets/controls",
      "model_module_version": "1.5.0",
      "model_name": "HTMLModel",
      "state": {
       "layout": "IPY_MODEL_4257c40249f842b98a0ab6115e9f1297",
       "style": "IPY_MODEL_c6a6377c35604435875cc17e349f4f07",
       "value": "<h5>Queue</h5>"
      }
     },
     "54142628ab7c4998adfa686a7cc6aa64": {
      "model_module": "@jupyter-widgets/base",
      "model_module_version": "1.2.0",
      "model_name": "LayoutModel",
      "state": {
       "width": "95px"
      }
     },
     "64f2bcede9be4da192abf7ed0842ea54": {
      "model_module": "@jupyter-widgets/base",
      "model_module_version": "1.2.0",
      "model_name": "LayoutModel",
      "state": {
       "margin": "0px 0px 0px 37px",
       "width": "600px"
      }
     },
     "6a18fa86278d48c8a252101a596f1e0a": {
      "model_module": "@jupyter-widgets/controls",
      "model_module_version": "1.5.0",
      "model_name": "HTMLModel",
      "state": {
       "layout": "IPY_MODEL_c28a4d3070fc4586a47413bf0ce4c0f3",
       "style": "IPY_MODEL_edd9d60359b04b8fa456d1742fbc017e",
       "value": "<h5>Job ID</h5>"
      }
     },
     "79d51a891b1d4786aa50da60a0aacbb3": {
      "model_module": "@jupyter-widgets/controls",
      "model_module_version": "1.5.0",
      "model_name": "GridBoxModel",
      "state": {
       "children": [
        "IPY_MODEL_1ea5fcf1e75a48b782bdde7bc5477032"
       ],
       "layout": "IPY_MODEL_f13342f844924ad29d0af1f4c072da15"
      }
     },
     "82c66fd6d6244ba69e388b45649979b6": {
      "model_module": "@jupyter-widgets/controls",
      "model_module_version": "1.5.0",
      "model_name": "HBoxModel",
      "state": {
       "children": [
        "IPY_MODEL_6a18fa86278d48c8a252101a596f1e0a",
        "IPY_MODEL_a7eb48b516fb41deb37835efd686bc8a",
        "IPY_MODEL_d8c1a17bc56f43e293da2aa75377c11e",
        "IPY_MODEL_4b961b28b6b540dd86aeacec295a3c80",
        "IPY_MODEL_051eacf7923c4b96ab3184adf624ae39"
       ],
       "layout": "IPY_MODEL_64f2bcede9be4da192abf7ed0842ea54"
      }
     },
     "8612a217213e444a86b8a5d5c9a0f7b2": {
      "model_module": "@jupyter-widgets/controls",
      "model_module_version": "1.5.0",
      "model_name": "HTMLModel",
      "state": {
       "layout": "IPY_MODEL_cbcaa5d1616e4b488db31fcfc2067cb8",
       "style": "IPY_MODEL_972c286f636c47c3885753c9d5c5c188",
       "value": "<p style='font-family: IBM Plex Sans, Arial, Helvetica, sans-serif; font-size: 20px; font-weight: medium;'>Circuit Properties</p>"
      }
     },
     "8ebecc1e9cd445fbb3b755fedf6d3fe8": {
      "model_module": "@jupyter-widgets/controls",
      "model_module_version": "1.5.0",
      "model_name": "DescriptionStyleModel",
      "state": {
       "description_width": ""
      }
     },
     "972c286f636c47c3885753c9d5c5c188": {
      "model_module": "@jupyter-widgets/controls",
      "model_module_version": "1.5.0",
      "model_name": "DescriptionStyleModel",
      "state": {
       "description_width": ""
      }
     },
     "984a10df6f51411d95daedb879b79658": {
      "model_module": "@jupyter-widgets/base",
      "model_module_version": "1.2.0",
      "model_name": "LayoutModel",
      "state": {
       "width": "145px"
      }
     },
     "9c8d1643aba14b58869156854ee1dadd": {
      "model_module": "@jupyter-widgets/controls",
      "model_module_version": "1.5.0",
      "model_name": "ButtonStyleModel",
      "state": {}
     },
     "a33e92b301ec45e6bebdca42972b1623": {
      "model_module": "@jupyter-widgets/base",
      "model_module_version": "1.2.0",
      "model_name": "LayoutModel",
      "state": {
       "grid_area": "right",
       "padding": "0px 0px 0px 0px",
       "width": "70px"
      }
     },
     "a7eb48b516fb41deb37835efd686bc8a": {
      "model_module": "@jupyter-widgets/controls",
      "model_module_version": "1.5.0",
      "model_name": "HTMLModel",
      "state": {
       "layout": "IPY_MODEL_984a10df6f51411d95daedb879b79658",
       "style": "IPY_MODEL_fb79a5c4ecf2486f890bdb358c4febcf",
       "value": "<h5>Backend</h5>"
      }
     },
     "c28a4d3070fc4586a47413bf0ce4c0f3": {
      "model_module": "@jupyter-widgets/base",
      "model_module_version": "1.2.0",
      "model_name": "LayoutModel",
      "state": {
       "width": "190px"
      }
     },
     "c6a6377c35604435875cc17e349f4f07": {
      "model_module": "@jupyter-widgets/controls",
      "model_module_version": "1.5.0",
      "model_name": "DescriptionStyleModel",
      "state": {
       "description_width": ""
      }
     },
     "ca2ae705c5bc4069ab50d8998bab6fc8": {
      "model_module": "@jupyter-widgets/controls",
      "model_module_version": "1.5.0",
      "model_name": "DescriptionStyleModel",
      "state": {
       "description_width": ""
      }
     },
     "cbcaa5d1616e4b488db31fcfc2067cb8": {
      "model_module": "@jupyter-widgets/base",
      "model_module_version": "1.2.0",
      "model_name": "LayoutModel",
      "state": {
       "margin": "0px 0px 10px 0px"
      }
     },
     "d8c1a17bc56f43e293da2aa75377c11e": {
      "model_module": "@jupyter-widgets/controls",
      "model_module_version": "1.5.0",
      "model_name": "HTMLModel",
      "state": {
       "layout": "IPY_MODEL_54142628ab7c4998adfa686a7cc6aa64",
       "style": "IPY_MODEL_ca2ae705c5bc4069ab50d8998bab6fc8",
       "value": "<h5>Status</h5>"
      }
     },
     "edd9d60359b04b8fa456d1742fbc017e": {
      "model_module": "@jupyter-widgets/controls",
      "model_module_version": "1.5.0",
      "model_name": "DescriptionStyleModel",
      "state": {
       "description_width": ""
      }
     },
     "f13342f844924ad29d0af1f4c072da15": {
      "model_module": "@jupyter-widgets/base",
      "model_module_version": "1.2.0",
      "model_name": "LayoutModel",
      "state": {
       "grid_template_areas": "\n                                       \". . . . right \"\n                                        ",
       "grid_template_columns": "20% 20% 20% 20% 20%",
       "width": "100%"
      }
     },
     "fb79a5c4ecf2486f890bdb358c4febcf": {
      "model_module": "@jupyter-widgets/controls",
      "model_module_version": "1.5.0",
      "model_name": "DescriptionStyleModel",
      "state": {
       "description_width": ""
      }
     }
    },
    "version_major": 2,
    "version_minor": 0
   }
  }
 },
 "nbformat": 4,
 "nbformat_minor": 5
}
