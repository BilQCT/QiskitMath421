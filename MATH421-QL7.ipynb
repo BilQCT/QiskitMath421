{
 "cells": [
  {
   "cell_type": "code",
   "execution_count": 1,
   "id": "9a64d98a-8196-40cd-bf6c-8eaed69b1f4d",
   "metadata": {},
   "outputs": [
    {
     "name": "stderr",
     "output_type": "stream",
     "text": [
      "<frozen importlib._bootstrap>:219: RuntimeWarning: scipy._lib.messagestream.MessageStream size changed, may indicate binary incompatibility. Expected 56 from C header, got 64 from PyObject\n"
     ]
    }
   ],
   "source": [
    "import numpy as np\n",
    "\n",
    "# Importing standard Qiskit libraries\n",
    "from qiskit import QuantumCircuit, transpile, Aer, IBMQ, assemble\n",
    "from qiskit.tools.jupyter import *\n",
    "from qiskit.visualization import *\n",
    "from ibm_quantum_widgets import *\n",
    "from qiskit.providers.aer import QasmSimulator\n",
    "\n",
    "# import basic plot tools\n",
    "from qiskit_textbook.tools import simon_oracle\n",
    "\n",
    "# Loading your IBM Quantum account(s)\n",
    "provider = IBMQ.load_account()"
   ]
  },
  {
   "cell_type": "markdown",
   "id": "94fa9b58-39cc-4fb6-9959-9aca425044f4",
   "metadata": {},
   "source": [
    "## Simon's Problem"
   ]
  },
  {
   "cell_type": "markdown",
   "id": "1478c5c3-51f3-4f35-a8b0-72e412538bbc",
   "metadata": {},
   "source": [
    "We are given an unknown blackbox function f , which is guaranteed to be either one-to-one ( 1 : 1 ) or two-to-one ( 2 : 1 ), where one-to-one and two-to-one functions have the following properties:\n",
    "- one-to-one: maps exactly one unique output for every input. An example with a function that takes 4 inputs is:\n",
    "\n",
    "$$f(1) \\rightarrow 1, \\quad f(2) \\rightarrow 2, \\quad f(3) \\rightarrow 3, \\quad f(4) \\rightarrow 4$$\n",
    "\n",
    "- two-to-one: maps exactly two inputs to every unique output. An example with a function that takes 4 inputs is:\n",
    "\n",
    "$$f(1) \\rightarrow 1, \\quad f(2) \\rightarrow 2, \\quad f(3) \\rightarrow 1, \\quad f(4) \\rightarrow 2$$\n",
    "\n",
    "This two-to-one mapping is according to a hidden bitstring, b , where:\n",
    "\n",
    "$$\\textrm{given }x_1,x_2: \\quad f(x_1) = f(x_2) \\\\\n",
    "\\textrm{it is guaranteed }: \\quad x_1 \\oplus x_2 = b$$\n",
    "\n",
    "Given this blackbox f , how quickly can we determine if f is one-to-one or two-to-one? Then, if f turns out to be two-to-one, how quickly can we determine b ? As it turns out, both cases boil down to the same problem of finding b , where a bitstring of b = 000... represents the one-to-one f ."
   ]
  },
  {
   "cell_type": "markdown",
   "id": "941162d5-48d8-4908-b178-69117de77ddc",
   "metadata": {},
   "source": [
    "## Simon's Algorithm"
   ]
  },
  {
   "cell_type": "markdown",
   "id": "29667d47-bd2f-4fbf-a485-8311453fc9e4",
   "metadata": {},
   "source": [
    "### Classlical Solution\n",
    "\n",
    "Classically, if we want to know what b is with 100% certainty for a given f , we have to check up to $2^{n−1}+1$ inputs, where n is the number of bits in the input. This means checking just over half of all the possible inputs until we find two cases of the same output. If we get lucky, we could solve the problem with our first two tries. But if we happen to get an f that is one-to-one, or get really unlucky with an f that’s two-to-one, then we’re stuck with the full $2^{n−1}+1$. There are known algorithms that have a lower bound of $\\Omega(2^{n/2})$, but generally speaking the complexity grows exponentially with n."
   ]
  },
  {
   "cell_type": "markdown",
   "id": "88b77503-d514-4581-a8e9-163cf6a2193d",
   "metadata": {},
   "source": [
    "### Quantum Solution\n",
    "\n",
    "A query function, $\\text{Q}_f$ acts on two quantum registers as:\n",
    "\n",
    "$$\\lvert x \\rangle \\lvert a \\rangle \\rightarrow \\lvert x \\rangle \\lvert a \\oplus f(x) \\rangle$$\n",
    "\n",
    "In the specific case that the second register is in the state $|0\\rangle = |00\\dots0\\rangle$ we have:\n",
    "\n",
    "$$\\lvert x \\rangle \\lvert 0 \\rangle \\rightarrow \\lvert x \\rangle \\lvert f(x) \\rangle$$\n",
    "\n",
    "The algorithm involves the following steps.\n",
    "\n",
    "1- Two n -qubit input registers are initialized to the zero state.\n",
    "\n",
    "$$\\lvert \\psi_1 \\rangle = \\lvert 0 \\rangle^{\\otimes n} \\lvert 0 \\rangle^{\\otimes n}$$\n",
    "\n",
    "2- Apply a Hadamard transform to the first register:\n",
    "\n",
    "$$\\lvert \\psi_2 \\rangle = (H^{\\otimes n} \\lvert 0 \\rangle^{\\otimes n}) \\lvert 0 \\rangle^{\\otimes n} = \\frac{1}{\\sqrt{2^n}} \\sum_{x \\in \\{0,1\\}^{n} } \\lvert x \\rangle\\lvert 0 \\rangle^{\\otimes n}$$\n",
    "\n",
    "3- Apply the query function $\\text{Q}_f$: \n",
    "\n",
    "$$\\lvert \\psi_3 \\rangle = \\frac{1}{\\sqrt{2^n}} \\sum_{x \\in \\{0,1\\}^{n} } \\lvert x \\rangle \\lvert f(x) \\rangle$$\n",
    "\n",
    "4- Measure the second register. A certain value of f ( x ) will be observed. Because of the setting of the problem, the observed value f ( x ) could correspond to two possible inputs: x and y = x ⊕ b . Therefore the first register becomes:\n",
    "\n",
    "$$\\lvert \\psi_4 \\rangle = \\frac{1}{\\sqrt{2}}  \\left( \\lvert x \\rangle + \\lvert y \\rangle \\right)$$\n",
    "\n",
    "where we omitted the second register since it has been measured.\n",
    "\n",
    "5- Apply Hadamard on the first register:\n",
    "\n",
    "$$\\lvert \\psi_5 \\rangle = \\frac{1}{\\sqrt{2^{n+1}}} \\sum_{z \\in \\{0,1\\}^{n} } \\left[  (-1)^{x \\cdot z} + (-1)^{y \\cdot z} \\right]  \\lvert z \\rangle$$\n",
    "\n",
    "6- Measuring the first register will give an output only if:\n",
    "\n",
    "$$(-1)^{x \\cdot z} = (-1)^{y \\cdot z}$$\n",
    "\n",
    "which means:\n",
    "\n",
    "$$x \\cdot z = y \\cdot z \\\\\n",
    "     x \\cdot z = \\left( x \\oplus b \\right) \\cdot z \\\\\n",
    "     x \\cdot z = x \\cdot z \\oplus b \\cdot z \\\\\n",
    "     b \\cdot z = 0 \\text{ (mod 2)}\n",
    "$$\n",
    "\n",
    "A string z will be measured, whose inner product with b = 0. Thus, repeating the algorithm ≈ n times, we will be able to obtain n different values of z and the following system of equation can be written:\n",
    "\n",
    "$$\\begin{cases} b \\cdot z_1 = 0 \\\\ b \\cdot z_2 = 0 \\\\ \\quad \\vdots \\\\ b \\cdot z_n = 0 \\end{cases}$$\n",
    "\n",
    "From which b can be determined, for example by Gaussian elimination.\n",
    "\n",
    "So, in this particular problem the quantum algorithm performs exponentially fewer steps than the classical one. Once again, it might be difficult to envision an application of this algorithm (although it inspired the most famous algorithm created by Shor) but it represents the first proof that there can be an exponential speed-up in solving a specific problem by using a quantum computer rather than a classical one."
   ]
  },
  {
   "cell_type": "markdown",
   "id": "2f4f326d-f4ac-4f6f-9700-649af3d87fa0",
   "metadata": {},
   "source": [
    "### Simon's Algorithm for 2 Qubits"
   ]
  },
  {
   "cell_type": "markdown",
   "id": "21335037-9457-4aaf-b652-a2513de30036",
   "metadata": {},
   "source": [
    "Let's see the example of Simon's algorithm for 2 qubits with the secret string b = 11 , so that f ( x ) = f ( y ) if y = x ⊕ b .\n",
    "\n",
    "1- Two 2 -qubit input registers are initialized to the zero state:\n",
    "\n",
    "$$\\lvert \\psi_1 \\rangle = \\lvert 0 0 \\rangle_1 \\lvert 0 0 \\rangle_2$$\n",
    "\n",
    "2- Apply Hadamard gates to the qubits in the first register:\n",
    "\n",
    "$$\\lvert \\psi_2 \\rangle = \\frac{1}{2} \\left( \\lvert 0 0 \\rangle_1 + \\lvert 0 1 \\rangle_1 + \\lvert 1 0 \\rangle_1 + \\lvert 1 1 \\rangle_1 \\right) \\lvert 0 0 \\rangle_2$$\n",
    "\n",
    "3- For the string b = 11 , the query function can be implemented as $\\text{Q}_f = CX_{1_a 2_a}CX_{1_a 2_b}CX_{1_b 2_a}CX_{1_b 2_b}$:\n",
    "\n",
    "$$\\begin{aligned}\n",
    "\\lvert \\psi_3 \\rangle  = \\frac{1}{2} ( \\; \n",
    "  & \\lvert 0 0 \\rangle_1 \\; \\lvert 0\\oplus 0 \\oplus 0, & 0 \\oplus 0 \\oplus 0 \\rangle_2 &\\\\[5pt]\n",
    "+ & \\lvert 0 1 \\rangle_1 \\; \\lvert 0\\oplus 0 \\oplus 1, & 0 \\oplus 0 \\oplus 1 \\rangle_2 &\\\\[6pt]\n",
    "+ & \\lvert 1 0 \\rangle_1 \\; \\lvert 0\\oplus 1 \\oplus 0, & 0 \\oplus 1 \\oplus 0 \\rangle_2 &\\\\[6pt]\n",
    "+ & \\lvert 1 1 \\rangle_1 \\; \\lvert 0\\oplus 1 \\oplus 1, & 0 \\oplus 1 \\oplus 1 \\rangle_2 & \\; )\\\\\n",
    "\\end{aligned}$$\n",
    "\n",
    "Thus:\n",
    "\n",
    "$$\\begin{aligned} \n",
    "\\lvert \\psi_3 \\rangle = \\frac{1}{2} (\n",
    " \\lvert 0 0 \\rangle_1  \\lvert 0 0 \\rangle_2 \n",
    "+  \\lvert 0 1 \\rangle_1 \\lvert 1  1 \\rangle_2 \n",
    "+  \\lvert 1 0 \\rangle_1 \\lvert  1   1  \\rangle_2 \n",
    "+  \\lvert 1 1 \\rangle_1 \\lvert 0 0 \\rangle_2 & \\;)\n",
    "\\end{aligned}\n",
    "$$\n",
    "\n",
    "\n",
    "4- We measure the second register. With 50 % probability we will see either $\\lvert  0   0  \\rangle_2$ or $\\lvert  1   1  \\rangle_2$ . For the sake of the example, let us assume that we see $\\lvert  1   1  \\rangle_2$ . The state of the system is then:\n",
    "\n",
    "$$\\lvert \\psi_4 \\rangle = \\frac{1}{\\sqrt{2}}  \\left( \\lvert  0   1  \\rangle_1 + \\lvert  1   0  \\rangle_1 \\right)$$\n",
    "\n",
    "where we omitted the second register since it has been measured.\n",
    "\n",
    "5- Apply Hadamard on the first register\n",
    "\n",
    "$$\\lvert \\psi_5 \\rangle = \\frac{1}{2\\sqrt{2}} \\left[ \\left( \\lvert 0 \\rangle + \\lvert 1 \\rangle \\right) \\otimes \\left( \\lvert 0 \\rangle - \\lvert 1 \\rangle \\right) + \\left( \\lvert 0 \\rangle - \\lvert 1 \\rangle \\right) \\otimes \\left( \\lvert 0 \\rangle + \\lvert 1 \\rangle \\right)  \\right] \\\\\n",
    "    =  \\frac{1}{2\\sqrt{2}} \\left[ \\lvert 0 0 \\rangle - \\lvert 0 1 \\rangle + \\lvert 1 0 \\rangle - \\lvert 1 1 \\rangle   + \\lvert 0 0 \\rangle + \\lvert 0 1 \\rangle - \\lvert 1 0 \\rangle - \\lvert 1 1 \\rangle \\right] \\\\\n",
    "    = \\frac{1}{\\sqrt{2}} \\left( \\lvert 0 0 \\rangle - \\lvert 1 1 \\rangle \\right)$$\n",
    "\n",
    "6- Measuring the first register will give either |00⟩ or |11⟩ with equal probability.\n",
    "\n",
    "7- If we see |11⟩, then:\n",
    "\n",
    "$$b \\cdot 11 = 0$$\n",
    "\n",
    "which tells us that b ≠ 01 or 10 , and the two remaining potential solutions are b = 00 or b = 11 . Note that b = 00 will always be a trivial solution to our simultaneous equations. If we repeat steps 1-6 many times, we would only measure |00⟩ or |11⟩ as\n",
    "\n",
    "$$b \\cdot 11 = 0 \\\\ b \\cdot 00 = 0$$\n",
    "\n",
    "\n",
    "are the only equations that satisfy b = 11 . We can verify b = 11 by picking a random input ($x_i$) and checking $f ( x_i ) = f ( x_i \\oplus b )$ . For example:\n",
    "\n",
    "$$01 \\oplus b = 10$$\n",
    "$$f(01) = f(10) = 11$$"
   ]
  },
  {
   "cell_type": "markdown",
   "id": "26cdfb6b-fb9d-4bd5-9564-9b57758eb34b",
   "metadata": {},
   "source": [
    "### Now we will apply Simon's algorithm in Qiskit using 3 qubits and b = 110."
   ]
  },
  {
   "cell_type": "code",
   "execution_count": 2,
   "id": "7e75152a-8a3e-440f-8bd7-d83caf0a2c09",
   "metadata": {},
   "outputs": [
    {
     "name": "stderr",
     "output_type": "stream",
     "text": [
      "/tmp/ipykernel_59/1447397014.py:12: DeprecationWarning: The QuantumCircuit.__iadd__() method is being deprecated. Use the compose() (potentially with the inplace=True argument) and tensor() methods which are more flexible w.r.t circuit register compatibility.\n",
      "  simon_circuit += simon_oracle(b)\n"
     ]
    },
    {
     "data": {
      "image/png": "[encoded data removed]",
      "text/plain": [
       "<Figure size 808.997x445.48 with 1 Axes>"
      ]
     },
     "execution_count": 2,
     "metadata": {},
     "output_type": "execute_result"
    }
   ],
   "source": [
    "b = '110'\n",
    "\n",
    "n = len(b)\n",
    "simon_circuit = QuantumCircuit(n*2, n)\n",
    "\n",
    "# Apply Hadamard gates before querying the oracle\n",
    "simon_circuit.h(range(n))    \n",
    "    \n",
    "# Apply barrier for visual separation\n",
    "simon_circuit.barrier()\n",
    "\n",
    "simon_circuit += simon_oracle(b)\n",
    "\n",
    "# Apply barrier for visual separation\n",
    "simon_circuit.barrier()\n",
    "\n",
    "# Apply Hadamard gates to the input register\n",
    "simon_circuit.h(range(n))\n",
    "\n",
    "# Measure qubits\n",
    "simon_circuit.measure(range(n), range(n))\n",
    "simon_circuit.draw()"
   ]
  },
  {
   "cell_type": "code",
   "execution_count": 3,
   "id": "9a8813d1-f557-4582-9927-6c1bfaefe6f8",
   "metadata": {},
   "outputs": [
    {
     "data": {
      "image/png": "[encoded data removed]",
      "text/plain": [
       "<Figure size 504x360 with 1 Axes>"
      ]
     },
     "execution_count": 3,
     "metadata": {},
     "output_type": "execute_result"
    }
   ],
   "source": [
    "aer_sim = Aer.get_backend('aer_simulator')\n",
    "shots = 1024\n",
    "qobj = assemble(simon_circuit, shots=shots)\n",
    "results = aer_sim.run(qobj).result()\n",
    "counts = results.get_counts()\n",
    "plot_histogram(counts)"
   ]
  },
  {
   "cell_type": "code",
   "execution_count": 4,
   "id": "a3b8101b-386a-424b-bb94-6b047defc573",
   "metadata": {},
   "outputs": [
    {
     "name": "stdout",
     "output_type": "stream",
     "text": [
      "110.110 = 0 (mod 2)\n",
      "110.001 = 0 (mod 2)\n",
      "110.111 = 0 (mod 2)\n",
      "110.000 = 0 (mod 2)\n"
     ]
    }
   ],
   "source": [
    "#Since we know b already, we can verify these results do satisfy b ⋅ z = 0 ( mod 2 )\n",
    "# Calculate the dot product of the results\n",
    "def bdotz(b, z):\n",
    "    accum = 0\n",
    "    for i in range(len(b)):\n",
    "        accum += int(b[i]) * int(z[i])\n",
    "    return (accum % 2)\n",
    "\n",
    "for z in counts:\n",
    "    print( '{}.{} = {} (mod 2)'.format(b, z, bdotz(b,z)) )"
   ]
  },
  {
   "cell_type": "markdown",
   "id": "c89a9b74-3827-4ba7-bb06-e2f634ec83f0",
   "metadata": {},
   "source": [
    "Using these results, we can recover the value of b = 110 by solving this set of simultaneous equations. For example, say we first measured 001, this tells us:\n",
    "\n",
    "$$\\require{cancel}\n",
    "\\begin{aligned}\n",
    "b \\cdot 001 &= 0 \\\\\n",
    "(b_2 \\cdot 0) + (b_1 \\cdot 0) + (b_0 \\cdot 1) & = 0 \\\\\n",
    "(\\cancel{b_2 \\cdot 0}) + (\\cancel{b_1 \\cdot 0}) + (b_0 \\cdot 1) & = 0 \\\\\n",
    "b_0 & = 0\\\\\n",
    "\\end{aligned}\n",
    "$$\n",
    "\n",
    "If we next measured 111, we have:\n",
    "\n",
    "$$\\require{cancel}\n",
    "\\begin{aligned}\n",
    "b \\cdot 111 &= 0 \\\\\n",
    "(b_2 \\cdot 1) + (b_1 \\cdot 1) + (\\cancel{0 \\cdot 1}) & = 0 \\\\\n",
    "(b_2 \\cdot 1) + (b_1 \\cdot 1) & = 0 \\\\\n",
    "\\end{aligned}\n",
    "$$\n",
    "\n",
    "Which tells us either:\n",
    "\n",
    "$$b_2 = b_1 = 0, \\quad b = 000$$\n",
    "\n",
    "or\n",
    "\n",
    "$$b_2 = b_1 = 1, \\quad b = 110$$\n",
    "\n",
    "Of which b = 110 is the non-trivial solution to our simultaneous equations. We can solve these problems in general using Gaussian elimination, which has a run time of $O(n^3)$ ."
   ]
  },
  {
   "cell_type": "code",
   "execution_count": null,
   "id": "c6ed8d90-4b4a-437a-b621-a0781fda3bab",
   "metadata": {},
   "outputs": [],
   "source": []
  }
 ],
 "metadata": {
  "kernelspec": {
   "display_name": "Python 3 (ipykernel)",
   "language": "python",
   "name": "python3"
  },
  "language_info": {
   "codemirror_mode": {
    "name": "ipython",
    "version": 3
   },
   "file_extension": ".py",
   "mimetype": "text/x-python",
   "name": "python",
   "nbconvert_exporter": "python",
   "pygments_lexer": "ipython3",
   "version": "3.8.13"
  },
  "widgets": {
   "application/vnd.jupyter.widget-state+json": {
    "state": {
     "0fe7480b919a4975b4e148bac6877eaa": {
      "model_module": "@jupyter-widgets/controls",
      "model_module_version": "1.5.0",
      "model_name": "HTMLModel",
      "state": {
       "layout": "IPY_MODEL_2e88f5ce7ad04c7fab07b2373e332289",
       "style": "IPY_MODEL_40f3a45a0bdf49e8ab79f07e660ab979",
       "value": "<h5>Message</h5>"
      }
     },
     "13516c27e92c4d09887f3e3326d0b5cc": {
      "model_module": "@jupyter-widgets/controls",
      "model_module_version": "1.5.0",
      "model_name": "DescriptionStyleModel",
      "state": {
       "description_width": ""
      }
     },
     "149e6679aad04af3a9902920da6996f1": {
      "model_module": "@jupyter-widgets/controls",
      "model_module_version": "1.5.0",
      "model_name": "HTMLModel",
      "state": {
       "layout": "IPY_MODEL_b0b9fdee38df4520a40a0d8544962edb",
       "style": "IPY_MODEL_13516c27e92c4d09887f3e3326d0b5cc",
       "value": "<h5>Status</h5>"
      }
     },
     "1978d115adfb45e6bb3233f5a913ba73": {
      "model_module": "@jupyter-widgets/controls",
      "model_module_version": "1.5.0",
      "model_name": "HTMLModel",
      "state": {
       "layout": "IPY_MODEL_f2560c580da449d7978ffb39f1be6a10",
       "style": "IPY_MODEL_e16c85b92ff244fd82ffe305e96bf4d5",
       "value": "<p style='font-family: IBM Plex Sans, Arial, Helvetica, sans-serif; font-size: 20px; font-weight: medium;'>Circuit Properties</p>"
      }
     },
     "2af417b58290460681cffebf67df0c18": {
      "model_module": "@jupyter-widgets/base",
      "model_module_version": "1.2.0",
      "model_name": "LayoutModel",
      "state": {
       "width": "190px"
      }
     },
     "2e88f5ce7ad04c7fab07b2373e332289": {
      "model_module": "@jupyter-widgets/base",
      "model_module_version": "1.2.0",
      "model_name": "LayoutModel",
      "state": {}
     },
     "3de1ba996a6545e7ad22135cc0a99ade": {
      "model_module": "@jupyter-widgets/base",
      "model_module_version": "1.2.0",
      "model_name": "LayoutModel",
      "state": {
       "margin": "0px 0px 0px 37px",
       "width": "600px"
      }
     },
     "40f3a45a0bdf49e8ab79f07e660ab979": {
      "model_module": "@jupyter-widgets/controls",
      "model_module_version": "1.5.0",
      "model_name": "DescriptionStyleModel",
      "state": {
       "description_width": ""
      }
     },
     "6b22f2d81fa344c790c552424c86c7ff": {
      "model_module": "@jupyter-widgets/base",
      "model_module_version": "1.2.0",
      "model_name": "LayoutModel",
      "state": {
       "width": "70px"
      }
     },
     "7121fb8be9d74314aa1ac0ed86046c9e": {
      "model_module": "@jupyter-widgets/controls",
      "model_module_version": "1.5.0",
      "model_name": "DescriptionStyleModel",
      "state": {
       "description_width": ""
      }
     },
     "759f51cbb34b4033bfdd9a994f366a65": {
      "model_module": "@jupyter-widgets/controls",
      "model_module_version": "1.5.0",
      "model_name": "ButtonStyleModel",
      "state": {}
     },
     "78d49480c35549289459da8c038b2c52": {
      "model_module": "@jupyter-widgets/controls",
      "model_module_version": "1.5.0",
      "model_name": "HBoxModel",
      "state": {
       "children": [
        "IPY_MODEL_abb44f8283874f6eb27702dffffa8f48",
        "IPY_MODEL_bc303b89e42848098b0a64663288a353",
        "IPY_MODEL_149e6679aad04af3a9902920da6996f1",
        "IPY_MODEL_e5b48b7d84454379a4c77c417873cc87",
        "IPY_MODEL_0fe7480b919a4975b4e148bac6877eaa"
       ],
       "layout": "IPY_MODEL_3de1ba996a6545e7ad22135cc0a99ade"
      }
     },
     "7d2f36fcf1ea49d39b5219928916dc74": {
      "model_module": "@jupyter-widgets/base",
      "model_module_version": "1.2.0",
      "model_name": "LayoutModel",
      "state": {
       "grid_template_areas": "\n                                       \". . . . right \"\n                                        ",
       "grid_template_columns": "20% 20% 20% 20% 20%",
       "width": "100%"
      }
     },
     "9514376d3cc64149b1a93cafd17d7ead": {
      "model_module": "@jupyter-widgets/base",
      "model_module_version": "1.2.0",
      "model_name": "LayoutModel",
      "state": {
       "width": "145px"
      }
     },
     "9e370c5ad41c48d78b489cc0b5402d12": {
      "model_module": "@jupyter-widgets/controls",
      "model_module_version": "1.5.0",
      "model_name": "DescriptionStyleModel",
      "state": {
       "description_width": ""
      }
     },
     "9f446c38af70431f973c392437cd56fb": {
      "model_module": "@jupyter-widgets/base",
      "model_module_version": "1.2.0",
      "model_name": "LayoutModel",
      "state": {
       "grid_area": "right",
       "padding": "0px 0px 0px 0px",
       "width": "70px"
      }
     },
     "abb44f8283874f6eb27702dffffa8f48": {
      "model_module": "@jupyter-widgets/controls",
      "model_module_version": "1.5.0",
      "model_name": "HTMLModel",
      "state": {
       "layout": "IPY_MODEL_2af417b58290460681cffebf67df0c18",
       "style": "IPY_MODEL_9e370c5ad41c48d78b489cc0b5402d12",
       "value": "<h5>Job ID</h5>"
      }
     },
     "b0b9fdee38df4520a40a0d8544962edb": {
      "model_module": "@jupyter-widgets/base",
      "model_module_version": "1.2.0",
      "model_name": "LayoutModel",
      "state": {
       "width": "95px"
      }
     },
     "bc303b89e42848098b0a64663288a353": {
      "model_module": "@jupyter-widgets/controls",
      "model_module_version": "1.5.0",
      "model_name": "HTMLModel",
      "state": {
       "layout": "IPY_MODEL_9514376d3cc64149b1a93cafd17d7ead",
       "style": "IPY_MODEL_7121fb8be9d74314aa1ac0ed86046c9e",
       "value": "<h5>Backend</h5>"
      }
     },
     "bff396d3c17842bd9ac28d69e2fca743": {
      "model_module": "@jupyter-widgets/controls",
      "model_module_version": "1.5.0",
      "model_name": "DescriptionStyleModel",
      "state": {
       "description_width": ""
      }
     },
     "d013214707bc4afa8fffcf8cf0ccc3ad": {
      "model_module": "@jupyter-widgets/controls",
      "model_module_version": "1.5.0",
      "model_name": "GridBoxModel",
      "state": {
       "children": [
        "IPY_MODEL_ebdcea2ad03a487eb0a077c7b4087770"
       ],
       "layout": "IPY_MODEL_7d2f36fcf1ea49d39b5219928916dc74"
      }
     },
     "e16c85b92ff244fd82ffe305e96bf4d5": {
      "model_module": "@jupyter-widgets/controls",
      "model_module_version": "1.5.0",
      "model_name": "DescriptionStyleModel",
      "state": {
       "description_width": ""
      }
     },
     "e5b48b7d84454379a4c77c417873cc87": {
      "model_module": "@jupyter-widgets/controls",
      "model_module_version": "1.5.0",
      "model_name": "HTMLModel",
      "state": {
       "layout": "IPY_MODEL_6b22f2d81fa344c790c552424c86c7ff",
       "style": "IPY_MODEL_bff396d3c17842bd9ac28d69e2fca743",
       "value": "<h5>Queue</h5>"
      }
     },
     "ebdcea2ad03a487eb0a077c7b4087770": {
      "model_module": "@jupyter-widgets/controls",
      "model_module_version": "1.5.0",
      "model_name": "ButtonModel",
      "state": {
       "button_style": "primary",
       "description": "Clear",
       "layout": "IPY_MODEL_9f446c38af70431f973c392437cd56fb",
       "style": "IPY_MODEL_759f51cbb34b4033bfdd9a994f366a65"
      }
     },
     "f2560c580da449d7978ffb39f1be6a10": {
      "model_module": "@jupyter-widgets/base",
      "model_module_version": "1.2.0",
      "model_name": "LayoutModel",
      "state": {
       "margin": "0px 0px 10px 0px"
      }
     }
    },
    "version_major": 2,
    "version_minor": 0
   }
  }
 },
 "nbformat": 4,
 "nbformat_minor": 5
}
