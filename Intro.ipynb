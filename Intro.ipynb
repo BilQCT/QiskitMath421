{
 "cells": [
  {
   "cell_type": "code",
   "execution_count": 22,
   "id": "906568c3-96fc-4c8e-9b4c-ee3f32d8e691",
   "metadata": {},
   "outputs": [
    {
     "name": "stderr",
     "output_type": "stream",
     "text": [
      "ibmqfactory.load_account:WARNING:2022-09-20 05:55:12,638: Credentials are already in use. The existing account in the session will be replaced.\n"
     ]
    }
   ],
   "source": [
    "import numpy as np\n",
    "\n",
    "# Importing standard Qiskit libraries\n",
    "from qiskit import QuantumCircuit, transpile, Aer, IBMQ, execute\n",
    "from qiskit.tools.jupyter import *\n",
    "from qiskit.visualization import *\n",
    "from ibm_quantum_widgets import *\n",
    "from qiskit.providers.aer import QasmSimulator\n",
    "\n",
    "# Loading your IBM Quantum account(s)\n",
    "provider = IBMQ.load_account()"
   ]
  },
  {
   "cell_type": "code",
   "execution_count": 37,
   "id": "06b41a96-f93c-4a70-8880-864c0df0f55d",
   "metadata": {},
   "outputs": [
    {
     "data": {
      "image/png": "[encoded data removed]",
      "text/plain": [
       "<Figure size 133.526x144.48 with 1 Axes>"
      ]
     },
     "execution_count": 37,
     "metadata": {},
     "output_type": "execute_result"
    }
   ],
   "source": [
    "def lecture_1():\n",
    "    qc = QuantumCircuit(1,1) \n",
    "    #\n",
    "    #\n",
    "    qc.h(0)\n",
    "    #\n",
    "    #\n",
    "    return qc\n",
    "\n",
    "qc = lecture_1()\n",
    "qc.draw() # we draw the circuit"
   ]
  },
  {
   "cell_type": "code",
   "execution_count": 38,
   "id": "fe0a87e3-17d8-4410-aed1-b0275d0dd3a9",
   "metadata": {},
   "outputs": [
    {
     "data": {
      "image/png": "[encoded data removed]",
      "text/plain": [
       "<Figure size 504x360 with 1 Axes>"
      ]
     },
     "execution_count": 38,
     "metadata": {},
     "output_type": "execute_result"
    }
   ],
   "source": [
    "qc.measure_all() # we measure all the qubits\n",
    "backend = Aer.get_backend('qasm_simulator') # we choose the simulator as our backend\n",
    "counts = execute(qc, backend, shots = 100).result().get_counts() # we run the simulation and get the counts\n",
    "plot_histogram(counts) # let us plot a histogram to see the possible outcomes and corresponding probabilities"
   ]
  },
  {
   "cell_type": "code",
   "execution_count": null,
   "id": "0ad47936-9c92-458c-b328-5064b2499ec2",
   "metadata": {},
   "outputs": [],
   "source": []
  }
 ],
 "metadata": {
  "kernelspec": {
   "display_name": "Python 3 (ipykernel)",
   "language": "python",
   "name": "python3"
  },
  "language_info": {
   "codemirror_mode": {
    "name": "ipython",
    "version": 3
   },
   "file_extension": ".py",
   "mimetype": "text/x-python",
   "name": "python",
   "nbconvert_exporter": "python",
   "pygments_lexer": "ipython3",
   "version": "3.8.13"
  },
  "widgets": {
   "application/vnd.jupyter.widget-state+json": {
    "state": {
     "061f8837023d4eceabebf6c25913110a": {
      "model_module": "@jupyter-widgets/controls",
      "model_module_version": "1.5.0",
      "model_name": "ButtonModel",
      "state": {
       "button_style": "primary",
       "description": "Clear",
       "layout": "IPY_MODEL_a9dfe7ee897042fc8db60ca1617260d6",
       "style": "IPY_MODEL_dff07b79138d4bb3906c2bcaeb2ed6d8"
      }
     },
     "062f570fc122484da4e272c606dad8b3": {
      "model_module": "@jupyter-widgets/controls",
      "model_module_version": "1.5.0",
      "model_name": "DescriptionStyleModel",
      "state": {
       "description_width": ""
      }
     },
     "084ec1da7e4c4290ba09a8f281995120": {
      "model_module": "@jupyter-widgets/base",
      "model_module_version": "1.2.0",
      "model_name": "LayoutModel",
      "state": {
       "width": "190px"
      }
     },
     "282c627915cb4f40a2d1c9ef9edac878": {
      "model_module": "@jupyter-widgets/controls",
      "model_module_version": "1.5.0",
      "model_name": "HBoxModel",
      "state": {
       "children": [
        "IPY_MODEL_56a4c6872a5e49dc81d86b8e1a912b9c",
        "IPY_MODEL_4f0f50725a1845a6857260886b964436",
        "IPY_MODEL_f9d264b8418548569d3ea0a467a9be0f",
        "IPY_MODEL_62ca75ba950949a88cca8e973301aa1d",
        "IPY_MODEL_5eaf4a4575564ad394816f505f80316d"
       ],
       "layout": "IPY_MODEL_89e2c551160f41b89de60155de4e781a"
      }
     },
     "3238ca096060423bb7b6dfbccc89d0b3": {
      "model_module": "@jupyter-widgets/base",
      "model_module_version": "1.2.0",
      "model_name": "LayoutModel",
      "state": {
       "grid_template_areas": "\n                                       \". . . . right \"\n                                        ",
       "grid_template_columns": "20% 20% 20% 20% 20%",
       "width": "100%"
      }
     },
     "3ec6ec549fae4f66a23d306a55764fd1": {
      "model_module": "@jupyter-widgets/controls",
      "model_module_version": "1.5.0",
      "model_name": "DescriptionStyleModel",
      "state": {
       "description_width": ""
      }
     },
     "4f0f50725a1845a6857260886b964436": {
      "model_module": "@jupyter-widgets/controls",
      "model_module_version": "1.5.0",
      "model_name": "HTMLModel",
      "state": {
       "layout": "IPY_MODEL_ec4e431df3984a1b9849ecbfe6a581b4",
       "style": "IPY_MODEL_a458daeb8ea1499ebc871012f2ed2f57",
       "value": "<h5>Backend</h5>"
      }
     },
     "508d6f5beca2460bbef5cb29e5366aaa": {
      "model_module": "@jupyter-widgets/controls",
      "model_module_version": "1.5.0",
      "model_name": "DescriptionStyleModel",
      "state": {
       "description_width": ""
      }
     },
     "56a4c6872a5e49dc81d86b8e1a912b9c": {
      "model_module": "@jupyter-widgets/controls",
      "model_module_version": "1.5.0",
      "model_name": "HTMLModel",
      "state": {
       "layout": "IPY_MODEL_084ec1da7e4c4290ba09a8f281995120",
       "style": "IPY_MODEL_99b27058eec740f8b81ea33e06aa094f",
       "value": "<h5>Job ID</h5>"
      }
     },
     "5eaf4a4575564ad394816f505f80316d": {
      "model_module": "@jupyter-widgets/controls",
      "model_module_version": "1.5.0",
      "model_name": "HTMLModel",
      "state": {
       "layout": "IPY_MODEL_b51bc89cf6154b869f3c7529bf462606",
       "style": "IPY_MODEL_3ec6ec549fae4f66a23d306a55764fd1",
       "value": "<h5>Message</h5>"
      }
     },
     "62ca75ba950949a88cca8e973301aa1d": {
      "model_module": "@jupyter-widgets/controls",
      "model_module_version": "1.5.0",
      "model_name": "HTMLModel",
      "state": {
       "layout": "IPY_MODEL_b7a9a62b0632429786961c1c0ed01851",
       "style": "IPY_MODEL_062f570fc122484da4e272c606dad8b3",
       "value": "<h5>Queue</h5>"
      }
     },
     "7ed771e81f50458291e30198c4bfa875": {
      "model_module": "@jupyter-widgets/base",
      "model_module_version": "1.2.0",
      "model_name": "LayoutModel",
      "state": {
       "width": "95px"
      }
     },
     "89e2c551160f41b89de60155de4e781a": {
      "model_module": "@jupyter-widgets/base",
      "model_module_version": "1.2.0",
      "model_name": "LayoutModel",
      "state": {
       "margin": "0px 0px 0px 37px",
       "width": "600px"
      }
     },
     "8a350d99b52546a9b2b7bb7cfda38924": {
      "model_module": "@jupyter-widgets/controls",
      "model_module_version": "1.5.0",
      "model_name": "HTMLModel",
      "state": {
       "layout": "IPY_MODEL_a1ee1e6f11be47dabe9a070489528115",
       "style": "IPY_MODEL_508d6f5beca2460bbef5cb29e5366aaa",
       "value": "<p style='font-family: IBM Plex Sans, Arial, Helvetica, sans-serif; font-size: 20px; font-weight: medium;'>Circuit Properties</p>"
      }
     },
     "99b27058eec740f8b81ea33e06aa094f": {
      "model_module": "@jupyter-widgets/controls",
      "model_module_version": "1.5.0",
      "model_name": "DescriptionStyleModel",
      "state": {
       "description_width": ""
      }
     },
     "a1b3eedc0c8b480da8700db9ca413b5d": {
      "model_module": "@jupyter-widgets/controls",
      "model_module_version": "1.5.0",
      "model_name": "GridBoxModel",
      "state": {
       "children": [
        "IPY_MODEL_061f8837023d4eceabebf6c25913110a"
       ],
       "layout": "IPY_MODEL_3238ca096060423bb7b6dfbccc89d0b3"
      }
     },
     "a1ee1e6f11be47dabe9a070489528115": {
      "model_module": "@jupyter-widgets/base",
      "model_module_version": "1.2.0",
      "model_name": "LayoutModel",
      "state": {
       "margin": "0px 0px 10px 0px"
      }
     },
     "a458daeb8ea1499ebc871012f2ed2f57": {
      "model_module": "@jupyter-widgets/controls",
      "model_module_version": "1.5.0",
      "model_name": "DescriptionStyleModel",
      "state": {
       "description_width": ""
      }
     },
     "a9dfe7ee897042fc8db60ca1617260d6": {
      "model_module": "@jupyter-widgets/base",
      "model_module_version": "1.2.0",
      "model_name": "LayoutModel",
      "state": {
       "grid_area": "right",
       "padding": "0px 0px 0px 0px",
       "width": "70px"
      }
     },
     "b51bc89cf6154b869f3c7529bf462606": {
      "model_module": "@jupyter-widgets/base",
      "model_module_version": "1.2.0",
      "model_name": "LayoutModel",
      "state": {}
     },
     "b7a9a62b0632429786961c1c0ed01851": {
      "model_module": "@jupyter-widgets/base",
      "model_module_version": "1.2.0",
      "model_name": "LayoutModel",
      "state": {
       "width": "70px"
      }
     },
     "dff07b79138d4bb3906c2bcaeb2ed6d8": {
      "model_module": "@jupyter-widgets/controls",
      "model_module_version": "1.5.0",
      "model_name": "ButtonStyleModel",
      "state": {}
     },
     "ec4e431df3984a1b9849ecbfe6a581b4": {
      "model_module": "@jupyter-widgets/base",
      "model_module_version": "1.2.0",
      "model_name": "LayoutModel",
      "state": {
       "width": "145px"
      }
     },
     "f9d264b8418548569d3ea0a467a9be0f": {
      "model_module": "@jupyter-widgets/controls",
      "model_module_version": "1.5.0",
      "model_name": "HTMLModel",
      "state": {
       "layout": "IPY_MODEL_7ed771e81f50458291e30198c4bfa875",
       "style": "IPY_MODEL_fb830c0079f64ca9b04254b97b665de8",
       "value": "<h5>Status</h5>"
      }
     },
     "fb830c0079f64ca9b04254b97b665de8": {
      "model_module": "@jupyter-widgets/controls",
      "model_module_version": "1.5.0",
      "model_name": "DescriptionStyleModel",
      "state": {
       "description_width": ""
      }
     }
    },
    "version_major": 2,
    "version_minor": 0
   }
  }
 },
 "nbformat": 4,
 "nbformat_minor": 5
}
